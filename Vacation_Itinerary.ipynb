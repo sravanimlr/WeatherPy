{
 "cells": [
  {
   "cell_type": "code",
   "execution_count": 1,
   "metadata": {},
   "outputs": [],
   "source": [
    "import pandas as pd\n",
    "import gmaps\n",
    "import gmaps.datasets\n",
    "# Import the API key.\n",
    "from config import g_key"
   ]
  },
  {
   "cell_type": "code",
   "execution_count": 2,
   "metadata": {},
   "outputs": [],
   "source": [
    "gmaps.configure(api_key=g_key)"
   ]
  },
  {
   "cell_type": "code",
   "execution_count": 3,
   "metadata": {},
   "outputs": [],
   "source": [
    "hotel_data_to_load = \"WeatherPy_vacation.csv\""
   ]
  },
  {
   "cell_type": "code",
   "execution_count": 4,
   "metadata": {},
   "outputs": [
    {
     "data": {
      "text/html": [
       "<div>\n",
       "<style scoped>\n",
       "    .dataframe tbody tr th:only-of-type {\n",
       "        vertical-align: middle;\n",
       "    }\n",
       "\n",
       "    .dataframe tbody tr th {\n",
       "        vertical-align: top;\n",
       "    }\n",
       "\n",
       "    .dataframe thead th {\n",
       "        text-align: right;\n",
       "    }\n",
       "</style>\n",
       "<table border=\"1\" class=\"dataframe\">\n",
       "  <thead>\n",
       "    <tr style=\"text-align: right;\">\n",
       "      <th></th>\n",
       "      <th>City_ID</th>\n",
       "      <th>City</th>\n",
       "      <th>Country</th>\n",
       "      <th>Max Temp</th>\n",
       "      <th>Lat</th>\n",
       "      <th>Lng</th>\n",
       "      <th>Current Description</th>\n",
       "      <th>Hotel Name</th>\n",
       "    </tr>\n",
       "  </thead>\n",
       "  <tbody>\n",
       "    <tr>\n",
       "      <th>0</th>\n",
       "      <td>0</td>\n",
       "      <td>Carnarvon</td>\n",
       "      <td>AU</td>\n",
       "      <td>80.60</td>\n",
       "      <td>-24.87</td>\n",
       "      <td>113.63</td>\n",
       "      <td>few clouds</td>\n",
       "      <td>Hospitality Carnarvon</td>\n",
       "    </tr>\n",
       "    <tr>\n",
       "      <th>1</th>\n",
       "      <td>1</td>\n",
       "      <td>Avarua</td>\n",
       "      <td>CK</td>\n",
       "      <td>78.80</td>\n",
       "      <td>-21.21</td>\n",
       "      <td>-159.78</td>\n",
       "      <td>scattered clouds</td>\n",
       "      <td>Paradise Inn</td>\n",
       "    </tr>\n",
       "    <tr>\n",
       "      <th>2</th>\n",
       "      <td>4</td>\n",
       "      <td>Busselton</td>\n",
       "      <td>AU</td>\n",
       "      <td>68.00</td>\n",
       "      <td>-33.65</td>\n",
       "      <td>115.33</td>\n",
       "      <td>scattered clouds</td>\n",
       "      <td>Observatory Guest House</td>\n",
       "    </tr>\n",
       "    <tr>\n",
       "      <th>3</th>\n",
       "      <td>5</td>\n",
       "      <td>Hithadhoo</td>\n",
       "      <td>MV</td>\n",
       "      <td>84.49</td>\n",
       "      <td>-0.60</td>\n",
       "      <td>73.08</td>\n",
       "      <td>broken clouds</td>\n",
       "      <td>Scoop Guest House</td>\n",
       "    </tr>\n",
       "    <tr>\n",
       "      <th>4</th>\n",
       "      <td>6</td>\n",
       "      <td>Archidona</td>\n",
       "      <td>ES</td>\n",
       "      <td>60.01</td>\n",
       "      <td>37.10</td>\n",
       "      <td>-4.39</td>\n",
       "      <td>light rain</td>\n",
       "      <td>Hotel Escua</td>\n",
       "    </tr>\n",
       "    <tr>\n",
       "      <th>...</th>\n",
       "      <td>...</td>\n",
       "      <td>...</td>\n",
       "      <td>...</td>\n",
       "      <td>...</td>\n",
       "      <td>...</td>\n",
       "      <td>...</td>\n",
       "      <td>...</td>\n",
       "      <td>...</td>\n",
       "    </tr>\n",
       "    <tr>\n",
       "      <th>311</th>\n",
       "      <td>551</td>\n",
       "      <td>Autazes</td>\n",
       "      <td>BR</td>\n",
       "      <td>73.27</td>\n",
       "      <td>-3.58</td>\n",
       "      <td>-59.13</td>\n",
       "      <td>light rain</td>\n",
       "      <td>Apart hotel Tupinambá</td>\n",
       "    </tr>\n",
       "    <tr>\n",
       "      <th>312</th>\n",
       "      <td>552</td>\n",
       "      <td>Linguere</td>\n",
       "      <td>SN</td>\n",
       "      <td>65.21</td>\n",
       "      <td>15.40</td>\n",
       "      <td>-15.12</td>\n",
       "      <td>broken clouds</td>\n",
       "      <td>Centre Amadou Seck - Linguere</td>\n",
       "    </tr>\n",
       "    <tr>\n",
       "      <th>313</th>\n",
       "      <td>553</td>\n",
       "      <td>Cabedelo</td>\n",
       "      <td>BR</td>\n",
       "      <td>77.00</td>\n",
       "      <td>-6.98</td>\n",
       "      <td>-34.83</td>\n",
       "      <td>few clouds</td>\n",
       "      <td>Lua Mansa Pousada</td>\n",
       "    </tr>\n",
       "    <tr>\n",
       "      <th>314</th>\n",
       "      <td>554</td>\n",
       "      <td>Maiduguri</td>\n",
       "      <td>NG</td>\n",
       "      <td>79.38</td>\n",
       "      <td>11.85</td>\n",
       "      <td>13.16</td>\n",
       "      <td>broken clouds</td>\n",
       "      <td>College of Nursing &amp; Midwifery Female's Hostel</td>\n",
       "    </tr>\n",
       "    <tr>\n",
       "      <th>315</th>\n",
       "      <td>555</td>\n",
       "      <td>Villa Union</td>\n",
       "      <td>MX</td>\n",
       "      <td>70.00</td>\n",
       "      <td>23.20</td>\n",
       "      <td>-106.23</td>\n",
       "      <td>clear sky</td>\n",
       "      <td>My Fantasy Auto-Hotel</td>\n",
       "    </tr>\n",
       "  </tbody>\n",
       "</table>\n",
       "<p>316 rows × 8 columns</p>\n",
       "</div>"
      ],
      "text/plain": [
       "     City_ID         City Country  Max Temp    Lat     Lng  \\\n",
       "0          0    Carnarvon      AU     80.60 -24.87  113.63   \n",
       "1          1       Avarua      CK     78.80 -21.21 -159.78   \n",
       "2          4    Busselton      AU     68.00 -33.65  115.33   \n",
       "3          5    Hithadhoo      MV     84.49  -0.60   73.08   \n",
       "4          6    Archidona      ES     60.01  37.10   -4.39   \n",
       "..       ...          ...     ...       ...    ...     ...   \n",
       "311      551      Autazes      BR     73.27  -3.58  -59.13   \n",
       "312      552     Linguere      SN     65.21  15.40  -15.12   \n",
       "313      553     Cabedelo      BR     77.00  -6.98  -34.83   \n",
       "314      554    Maiduguri      NG     79.38  11.85   13.16   \n",
       "315      555  Villa Union      MX     70.00  23.20 -106.23   \n",
       "\n",
       "    Current Description                                      Hotel Name  \n",
       "0            few clouds                           Hospitality Carnarvon  \n",
       "1      scattered clouds                                    Paradise Inn  \n",
       "2      scattered clouds                         Observatory Guest House  \n",
       "3         broken clouds                               Scoop Guest House  \n",
       "4            light rain                                     Hotel Escua  \n",
       "..                  ...                                             ...  \n",
       "311          light rain                           Apart hotel Tupinambá  \n",
       "312       broken clouds                   Centre Amadou Seck - Linguere  \n",
       "313          few clouds                               Lua Mansa Pousada  \n",
       "314       broken clouds  College of Nursing & Midwifery Female's Hostel  \n",
       "315           clear sky                           My Fantasy Auto-Hotel  \n",
       "\n",
       "[316 rows x 8 columns]"
      ]
     },
     "execution_count": 4,
     "metadata": {},
     "output_type": "execute_result"
    }
   ],
   "source": [
    "hotel_data_df = pd.read_csv(hotel_data_to_load)\n",
    "hotel_data_df"
   ]
  },
  {
   "cell_type": "code",
   "execution_count": 5,
   "metadata": {},
   "outputs": [
    {
     "data": {
      "text/html": [
       "<div>\n",
       "<style scoped>\n",
       "    .dataframe tbody tr th:only-of-type {\n",
       "        vertical-align: middle;\n",
       "    }\n",
       "\n",
       "    .dataframe tbody tr th {\n",
       "        vertical-align: top;\n",
       "    }\n",
       "\n",
       "    .dataframe thead th {\n",
       "        text-align: right;\n",
       "    }\n",
       "</style>\n",
       "<table border=\"1\" class=\"dataframe\">\n",
       "  <thead>\n",
       "    <tr style=\"text-align: right;\">\n",
       "      <th></th>\n",
       "      <th>City_ID</th>\n",
       "      <th>City</th>\n",
       "      <th>Country</th>\n",
       "      <th>Max Temp</th>\n",
       "      <th>Lat</th>\n",
       "      <th>Lng</th>\n",
       "      <th>Current Description</th>\n",
       "      <th>Hotel Name</th>\n",
       "    </tr>\n",
       "  </thead>\n",
       "  <tbody>\n",
       "    <tr>\n",
       "      <th>88</th>\n",
       "      <td>157</td>\n",
       "      <td>Richards Bay</td>\n",
       "      <td>ZA</td>\n",
       "      <td>72.75</td>\n",
       "      <td>-28.78</td>\n",
       "      <td>32.04</td>\n",
       "      <td>scattered clouds</td>\n",
       "      <td>BON Hotel Waterfront Richards Bay</td>\n",
       "    </tr>\n",
       "  </tbody>\n",
       "</table>\n",
       "</div>"
      ],
      "text/plain": [
       "    City_ID          City Country  Max Temp    Lat    Lng Current Description  \\\n",
       "88      157  Richards Bay      ZA     72.75 -28.78  32.04    scattered clouds   \n",
       "\n",
       "                           Hotel Name  \n",
       "88  BON Hotel Waterfront Richards Bay  "
      ]
     },
     "execution_count": 5,
     "metadata": {},
     "output_type": "execute_result"
    }
   ],
   "source": [
    "richards_bay_city_df = hotel_data_df[hotel_data_df[\"City\"] == \"Richards Bay\"]\n",
    "richards_bay_city_df"
   ]
  },
  {
   "cell_type": "code",
   "execution_count": 6,
   "metadata": {},
   "outputs": [
    {
     "data": {
      "text/html": [
       "<div>\n",
       "<style scoped>\n",
       "    .dataframe tbody tr th:only-of-type {\n",
       "        vertical-align: middle;\n",
       "    }\n",
       "\n",
       "    .dataframe tbody tr th {\n",
       "        vertical-align: top;\n",
       "    }\n",
       "\n",
       "    .dataframe thead th {\n",
       "        text-align: right;\n",
       "    }\n",
       "</style>\n",
       "<table border=\"1\" class=\"dataframe\">\n",
       "  <thead>\n",
       "    <tr style=\"text-align: right;\">\n",
       "      <th></th>\n",
       "      <th>City_ID</th>\n",
       "      <th>City</th>\n",
       "      <th>Country</th>\n",
       "      <th>Max Temp</th>\n",
       "      <th>Lat</th>\n",
       "      <th>Lng</th>\n",
       "      <th>Current Description</th>\n",
       "      <th>Hotel Name</th>\n",
       "    </tr>\n",
       "  </thead>\n",
       "  <tbody>\n",
       "    <tr>\n",
       "      <th>151</th>\n",
       "      <td>267</td>\n",
       "      <td>East London</td>\n",
       "      <td>ZA</td>\n",
       "      <td>69.8</td>\n",
       "      <td>-33.02</td>\n",
       "      <td>27.91</td>\n",
       "      <td>clear sky</td>\n",
       "      <td>Tu Casa</td>\n",
       "    </tr>\n",
       "  </tbody>\n",
       "</table>\n",
       "</div>"
      ],
      "text/plain": [
       "     City_ID         City Country  Max Temp    Lat    Lng Current Description  \\\n",
       "151      267  East London      ZA      69.8 -33.02  27.91           clear sky   \n",
       "\n",
       "    Hotel Name  \n",
       "151    Tu Casa  "
      ]
     },
     "execution_count": 6,
     "metadata": {},
     "output_type": "execute_result"
    }
   ],
   "source": [
    "east_london_city_df = hotel_data_df[hotel_data_df[\"City\"] == \"East London\"]\n",
    "east_london_city_df"
   ]
  },
  {
   "cell_type": "code",
   "execution_count": 7,
   "metadata": {},
   "outputs": [
    {
     "data": {
      "text/html": [
       "<div>\n",
       "<style scoped>\n",
       "    .dataframe tbody tr th:only-of-type {\n",
       "        vertical-align: middle;\n",
       "    }\n",
       "\n",
       "    .dataframe tbody tr th {\n",
       "        vertical-align: top;\n",
       "    }\n",
       "\n",
       "    .dataframe thead th {\n",
       "        text-align: right;\n",
       "    }\n",
       "</style>\n",
       "<table border=\"1\" class=\"dataframe\">\n",
       "  <thead>\n",
       "    <tr style=\"text-align: right;\">\n",
       "      <th></th>\n",
       "      <th>City_ID</th>\n",
       "      <th>City</th>\n",
       "      <th>Country</th>\n",
       "      <th>Max Temp</th>\n",
       "      <th>Lat</th>\n",
       "      <th>Lng</th>\n",
       "      <th>Current Description</th>\n",
       "      <th>Hotel Name</th>\n",
       "    </tr>\n",
       "  </thead>\n",
       "  <tbody>\n",
       "    <tr>\n",
       "      <th>9</th>\n",
       "      <td>14</td>\n",
       "      <td>Port Alfred</td>\n",
       "      <td>ZA</td>\n",
       "      <td>66.99</td>\n",
       "      <td>-33.59</td>\n",
       "      <td>26.89</td>\n",
       "      <td>clear sky</td>\n",
       "      <td>The Halyards Hotel</td>\n",
       "    </tr>\n",
       "  </tbody>\n",
       "</table>\n",
       "</div>"
      ],
      "text/plain": [
       "   City_ID         City Country  Max Temp    Lat    Lng Current Description  \\\n",
       "9       14  Port Alfred      ZA     66.99 -33.59  26.89           clear sky   \n",
       "\n",
       "           Hotel Name  \n",
       "9  The Halyards Hotel  "
      ]
     },
     "execution_count": 7,
     "metadata": {},
     "output_type": "execute_result"
    }
   ],
   "source": [
    "port_alfred_city_df = hotel_data_df[hotel_data_df[\"City\"] == \"Port Alfred\"]\n",
    "port_alfred_city_df"
   ]
  },
  {
   "cell_type": "code",
   "execution_count": 8,
   "metadata": {},
   "outputs": [
    {
     "data": {
      "text/html": [
       "<div>\n",
       "<style scoped>\n",
       "    .dataframe tbody tr th:only-of-type {\n",
       "        vertical-align: middle;\n",
       "    }\n",
       "\n",
       "    .dataframe tbody tr th {\n",
       "        vertical-align: top;\n",
       "    }\n",
       "\n",
       "    .dataframe thead th {\n",
       "        text-align: right;\n",
       "    }\n",
       "</style>\n",
       "<table border=\"1\" class=\"dataframe\">\n",
       "  <thead>\n",
       "    <tr style=\"text-align: right;\">\n",
       "      <th></th>\n",
       "      <th>City_ID</th>\n",
       "      <th>City</th>\n",
       "      <th>Country</th>\n",
       "      <th>Max Temp</th>\n",
       "      <th>Lat</th>\n",
       "      <th>Lng</th>\n",
       "      <th>Current Description</th>\n",
       "      <th>Hotel Name</th>\n",
       "    </tr>\n",
       "  </thead>\n",
       "  <tbody>\n",
       "    <tr>\n",
       "      <th>45</th>\n",
       "      <td>86</td>\n",
       "      <td>Port Elizabeth</td>\n",
       "      <td>ZA</td>\n",
       "      <td>60.8</td>\n",
       "      <td>-33.92</td>\n",
       "      <td>25.57</td>\n",
       "      <td>clear sky</td>\n",
       "      <td>39 On Nile Guest House</td>\n",
       "    </tr>\n",
       "  </tbody>\n",
       "</table>\n",
       "</div>"
      ],
      "text/plain": [
       "    City_ID            City Country  Max Temp    Lat    Lng  \\\n",
       "45       86  Port Elizabeth      ZA      60.8 -33.92  25.57   \n",
       "\n",
       "   Current Description              Hotel Name  \n",
       "45           clear sky  39 On Nile Guest House  "
      ]
     },
     "execution_count": 8,
     "metadata": {},
     "output_type": "execute_result"
    }
   ],
   "source": [
    "port_elizabeth_city_df = hotel_data_df[hotel_data_df[\"City\"] == \"Port Elizabeth\"]\n",
    "port_elizabeth_city_df"
   ]
  },
  {
   "cell_type": "code",
   "execution_count": 9,
   "metadata": {},
   "outputs": [
    {
     "data": {
      "application/vnd.jupyter.widget-view+json": {
       "model_id": "abc0c2c03b644f3aaf7506d7ca60cf2e",
       "version_major": 2,
       "version_minor": 0
      },
      "text/plain": [
       "Figure(layout=FigureLayout(height='420px'))"
      ]
     },
     "metadata": {},
     "output_type": "display_data"
    }
   ],
   "source": [
    "#latitude and longitude\n",
    "richards_bay_city = (-28.78, 32.04)\n",
    "east_london_city = (-33.02, 27.91)\n",
    "port_alfred_city = (-33.59, 26.89)\n",
    "port_elizabeth_city = (-33.92, 25.57)\n",
    "fig = gmaps.figure()\n",
    "richards_bay_citytoport_elizabeth_city = gmaps.directions_layer(richards_bay_city, port_elizabeth_city)\n",
    "fig.add_layer(richards_bay_citytoport_elizabeth_city)\n",
    "fig"
   ]
  },
  {
   "cell_type": "code",
   "execution_count": 10,
   "metadata": {},
   "outputs": [
    {
     "data": {
      "application/vnd.jupyter.widget-view+json": {
       "model_id": "e2c0ea3d8ac94cb783e909d8d3b64dae",
       "version_major": 2,
       "version_minor": 0
      },
      "text/plain": [
       "Figure(layout=FigureLayout(height='420px'))"
      ]
     },
     "metadata": {},
     "output_type": "display_data"
    }
   ],
   "source": [
    "fig = gmaps.figure()\n",
    "richards_bay_citytoport_elizabeth_city_via_east_london_city_via_port_alfred_city = gmaps.directions_layer(\n",
    "        richards_bay_city, port_elizabeth_city, waypoints=[east_london_city, port_alfred_city],\n",
    "        travel_mode ='DRIVING')\n",
    "fig.add_layer(richards_bay_citytoport_elizabeth_city_via_east_london_city_via_port_alfred_city)\n",
    "fig"
   ]
  },
  {
   "cell_type": "code",
   "execution_count": 11,
   "metadata": {},
   "outputs": [
    {
     "data": {
      "text/html": [
       "<div>\n",
       "<style scoped>\n",
       "    .dataframe tbody tr th:only-of-type {\n",
       "        vertical-align: middle;\n",
       "    }\n",
       "\n",
       "    .dataframe tbody tr th {\n",
       "        vertical-align: top;\n",
       "    }\n",
       "\n",
       "    .dataframe thead th {\n",
       "        text-align: right;\n",
       "    }\n",
       "</style>\n",
       "<table border=\"1\" class=\"dataframe\">\n",
       "  <thead>\n",
       "    <tr style=\"text-align: right;\">\n",
       "      <th></th>\n",
       "      <th>City_ID</th>\n",
       "      <th>City</th>\n",
       "      <th>Country</th>\n",
       "      <th>Max Temp</th>\n",
       "      <th>Lat</th>\n",
       "      <th>Lng</th>\n",
       "      <th>Current Description</th>\n",
       "      <th>Hotel Name</th>\n",
       "    </tr>\n",
       "  </thead>\n",
       "  <tbody>\n",
       "    <tr>\n",
       "      <th>88</th>\n",
       "      <td>157</td>\n",
       "      <td>Richards Bay</td>\n",
       "      <td>ZA</td>\n",
       "      <td>72.75</td>\n",
       "      <td>-28.78</td>\n",
       "      <td>32.04</td>\n",
       "      <td>scattered clouds</td>\n",
       "      <td>BON Hotel Waterfront Richards Bay</td>\n",
       "    </tr>\n",
       "    <tr>\n",
       "      <th>151</th>\n",
       "      <td>267</td>\n",
       "      <td>East London</td>\n",
       "      <td>ZA</td>\n",
       "      <td>69.80</td>\n",
       "      <td>-33.02</td>\n",
       "      <td>27.91</td>\n",
       "      <td>clear sky</td>\n",
       "      <td>Tu Casa</td>\n",
       "    </tr>\n",
       "    <tr>\n",
       "      <th>9</th>\n",
       "      <td>14</td>\n",
       "      <td>Port Alfred</td>\n",
       "      <td>ZA</td>\n",
       "      <td>66.99</td>\n",
       "      <td>-33.59</td>\n",
       "      <td>26.89</td>\n",
       "      <td>clear sky</td>\n",
       "      <td>The Halyards Hotel</td>\n",
       "    </tr>\n",
       "    <tr>\n",
       "      <th>45</th>\n",
       "      <td>86</td>\n",
       "      <td>Port Elizabeth</td>\n",
       "      <td>ZA</td>\n",
       "      <td>60.80</td>\n",
       "      <td>-33.92</td>\n",
       "      <td>25.57</td>\n",
       "      <td>clear sky</td>\n",
       "      <td>39 On Nile Guest House</td>\n",
       "    </tr>\n",
       "  </tbody>\n",
       "</table>\n",
       "</div>"
      ],
      "text/plain": [
       "     City_ID            City Country  Max Temp    Lat    Lng  \\\n",
       "88       157    Richards Bay      ZA     72.75 -28.78  32.04   \n",
       "151      267     East London      ZA     69.80 -33.02  27.91   \n",
       "9         14     Port Alfred      ZA     66.99 -33.59  26.89   \n",
       "45        86  Port Elizabeth      ZA     60.80 -33.92  25.57   \n",
       "\n",
       "    Current Description                         Hotel Name  \n",
       "88     scattered clouds  BON Hotel Waterfront Richards Bay  \n",
       "151           clear sky                            Tu Casa  \n",
       "9             clear sky                 The Halyards Hotel  \n",
       "45            clear sky             39 On Nile Guest House  "
      ]
     },
     "execution_count": 11,
     "metadata": {},
     "output_type": "execute_result"
    }
   ],
   "source": [
    "cities_df = pd.concat([richards_bay_city_df, east_london_city_df, port_alfred_city_df, port_elizabeth_city_df])\n",
    "cities_df"
   ]
  },
  {
   "cell_type": "code",
   "execution_count": 12,
   "metadata": {},
   "outputs": [],
   "source": [
    "info_box_template = \"\"\"\n",
    "<dl>\n",
    "<dt>Hotel Name</dt><dd>{Hotel Name}</dd>\n",
    "<dt>City</dt><dd>{City}</dd>\n",
    "<dt>Country</dt><dd>{Country}</dd>\n",
    "<dt>Current Weather</dt><dd>{Current Description}</dt><dd>and<dd>{Max Temp} °F</dd>\n",
    "</dl>\n",
    "\"\"\""
   ]
  },
  {
   "cell_type": "code",
   "execution_count": 13,
   "metadata": {},
   "outputs": [],
   "source": [
    "# Store the DataFrame Row.\n",
    "hotel_info = [info_box_template.format(**row) for index, row in cities_df.iterrows()]"
   ]
  },
  {
   "cell_type": "code",
   "execution_count": 14,
   "metadata": {},
   "outputs": [
    {
     "data": {
      "application/vnd.jupyter.widget-view+json": {
       "model_id": "ca32ca6a9f364effa9415a2e25dcb772",
       "version_major": 2,
       "version_minor": 0
      },
      "text/plain": [
       "Figure(layout=FigureLayout(height='420px'))"
      ]
     },
     "metadata": {},
     "output_type": "display_data"
    }
   ],
   "source": [
    "#map of 4 cities \n",
    "locations = cities_df[[\"Lat\", \"Lng\"]]\n",
    "cities = cities_df[\"City\"]\n",
    "current_weather = hotel_data_df[[\"Current Description\", \"Max Temp\"]]\n",
    "country = cities_df[\"Country\"]\n",
    "                                \n",
    "fig = gmaps.figure(center=(30.0, 31.0), zoom_level=1.5)\n",
    "marker_layer = gmaps.marker_layer(locations, info_box_content=hotel_info)\n",
    "fig.add_layer(marker_layer)\n",
    "# Call the figure to plot the data.\n",
    "fig"
   ]
  },
  {
   "cell_type": "code",
   "execution_count": null,
   "metadata": {},
   "outputs": [],
   "source": []
  }
 ],
 "metadata": {
  "kernelspec": {
   "display_name": "PythonData",
   "language": "python",
   "name": "pythondata"
  },
  "language_info": {
   "codemirror_mode": {
    "name": "ipython",
    "version": 3
   },
   "file_extension": ".py",
   "mimetype": "text/x-python",
   "name": "python",
   "nbconvert_exporter": "python",
   "pygments_lexer": "ipython3",
   "version": "3.7.6"
  }
 },
 "nbformat": 4,
 "nbformat_minor": 4
}
